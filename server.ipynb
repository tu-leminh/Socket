{
 "cells": [
  {
   "cell_type": "code",
   "execution_count": 1,
   "id": "559d8f7d-3a09-4081-9235-a22662054ab3",
   "metadata": {},
   "outputs": [],
   "source": [
    "from tkinter import *\n",
    "import socket\n",
    "import os\n",
    "from _thread import *\n",
    "import mysql.connector"
   ]
  },
  {
   "cell_type": "code",
   "execution_count": 2,
   "id": "b01ec7bb-1273-413b-9934-e8da067d0c28",
   "metadata": {},
   "outputs": [],
   "source": [
    "def updateAccountMap():\n",
    "    mydb = mysql.connector.connect(\n",
    "        host='remotemysql.com',\n",
    "        user=\"CoJ5g2XnKq\",\n",
    "        password=\"L6QhRYcFVP\",\n",
    "        database=\"CoJ5g2XnKq\"\n",
    "    )\n",
    "    SQL = mydb.cursor()\n",
    "    SQL.execute(\"select * from TaiKhoan\")\n",
    "    data=SQL.fetchall()\n",
    "    global AccountMap\n",
    "    AccountMap={x:y for x,y in data}"
   ]
  },
  {
   "cell_type": "code",
   "execution_count": 3,
   "id": "e6210205-a36c-4e85-8aa2-34bc809902cc",
   "metadata": {},
   "outputs": [],
   "source": [
    "def registerAccount(ACT,PSW):\n",
    "    mydb = mysql.connector.connect(\n",
    "        host='remotemysql.com',\n",
    "        user=\"CoJ5g2XnKq\",\n",
    "        password=\"L6QhRYcFVP\",\n",
    "        database=\"CoJ5g2XnKq\"\n",
    "    )\n",
    "    SQL = mydb.cursor()\n",
    "    SQL.execute(f\"insert into TaiKhoan values ('{ACT}','{PSW}')\")\n",
    "    mydb.commit()"
   ]
  },
  {
   "cell_type": "code",
   "execution_count": 4,
   "id": "e0aaaf16-649f-4404-8b29-c2e94b7b5cb9",
   "metadata": {},
   "outputs": [],
   "source": [
    "class ServerForm:\n",
    "        def __init__(self, master):\n",
    "            master.geometry(\"700x700\")\n",
    "            listbox=Listbox(root,width=40, height=40)\n",
    "            listbox.pack(pady=15)"
   ]
  },
  {
   "cell_type": "code",
   "execution_count": 5,
   "id": "eb8199ff-4097-4b94-b068-7c0b5c5216ef",
   "metadata": {},
   "outputs": [],
   "source": [
    "root = Tk()\n",
    "my_gui = ServerForm(root)\n",
    "#root.mainloop()"
   ]
  },
  {
   "cell_type": "code",
   "execution_count": null,
   "id": "cce62986-11de-4f14-bd59-d7457b1ec251",
   "metadata": {},
   "outputs": [
    {
     "name": "stdout",
     "output_type": "stream",
     "text": [
      "The server is on.....\n",
      "Connected to: 127.0.0.1:38450\n",
      "Thread Number: 1\n",
      "Server received from client 0: NEW CLIENT CONNECTED\n",
      "Server sended to client 0: HELLO CLIENT 0\n",
      "Server received from client 0: REQUEST LOGIN 123 1\n",
      "Server sended to client 0: ACCEPTED LOGIN\n",
      "CLIENT 0 DISCONNECTED\n"
     ]
    }
   ],
   "source": [
    "ServerSideSocket = socket.socket()\n",
    "host = ''\n",
    "port = 20044\n",
    "ClientCount = 0\n",
    "AccountMap={}\n",
    "updateAccountMap()\n",
    "try:\n",
    "    ServerSideSocket.bind((host, port))\n",
    "except socket.error as e:\n",
    "    print(str(e))\n",
    "\n",
    "print('The server is on.....')\n",
    "ServerSideSocket.listen(5)\n",
    "\n",
    "def multi_threaded_sever(connection,stt):\n",
    "    connection.sendall(str.encode('ACCEPTED CONNECT'))\n",
    "    while True:\n",
    "        try:\n",
    "            data = connection.recv(2048)\n",
    "        except ConnectionResetError:\n",
    "            print(f\"CLIENT {stt} DISCONNECTED: (ConnectionResetError)\")\n",
    "            break\n",
    "        if not data:\n",
    "            break\n",
    "        data=data.decode('utf-8')\n",
    "        print(f'Server received from client {stt}: {data}')\n",
    "        response = \"\"\n",
    "        if data=='NEW CLIENT CONNECTED':\n",
    "            response = f'HELLO CLIENT {stt}'\n",
    "        data=data.split()\n",
    "        if data[0]=='REQUEST':\n",
    "            if data[1]=='REGISTER':\n",
    "                if data[2] in AccountMap.keys():\n",
    "                    response=\"DENIED REGISTER EXITED\"\n",
    "                else:\n",
    "                    response=\"ACCEPTED REGISTER\"\n",
    "                    registerAccount(data[2],data[3])\n",
    "                updateAccountMap()\n",
    "            if data[1]=='LOGIN':\n",
    "                while len(data)<4:\n",
    "                    data.append(\"\")\n",
    "                if data[2] in AccountMap.keys() and data[3] == AccountMap[data[2]]:\n",
    "                    response = \"ACCEPTED LOGIN\"\n",
    "                else:\n",
    "                    response = \"DENIED LOGIN\"\n",
    "        connection.sendall(str.encode(response))\n",
    "        print(f'Server sended to client {stt}: ' + response)\n",
    "        \n",
    "    global ClientCount\n",
    "    ClientCount=ClientCount-1\n",
    "    connection.close()\n",
    "    print(f\"CLIENT {stt} DISCONNECTED\")\n",
    "\n",
    "stt=0\n",
    "while True:\n",
    "    Client, address = ServerSideSocket.accept()\n",
    "    print('Connected to: ' + address[0] + ':' + str(address[1]))\n",
    "    start_new_thread(multi_threaded_sever, (Client,stt,))\n",
    "    stt+=1\n",
    "    ClientCount += 1\n",
    "    print('Thread Number: ' + str(ClientCount))\n",
    "ServerSideSocket.close()"
   ]
  }
 ],
 "metadata": {
  "kernelspec": {
   "display_name": "Python 3",
   "language": "python",
   "name": "python3"
  },
  "language_info": {
   "codemirror_mode": {
    "name": "ipython",
    "version": 3
   },
   "file_extension": ".py",
   "mimetype": "text/x-python",
   "name": "python",
   "nbconvert_exporter": "python",
   "pygments_lexer": "ipython3",
   "version": "3.8.5"
  }
 },
 "nbformat": 4,
 "nbformat_minor": 5
}
